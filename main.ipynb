{
 "cells": [
  {
   "cell_type": "markdown",
   "id": "53f99a49",
   "metadata": {},
   "source": [
    "# <span style='background:yellow'>Data Science Classification Project: Predicting Heart Disease</span>"
   ]
  },
  {
   "cell_type": "markdown",
   "id": "26fa9a25",
   "metadata": {},
   "source": [
    "# Importing Liabraries"
   ]
  },
  {
   "cell_type": "code",
   "execution_count": 1,
   "id": "735b9f98",
   "metadata": {},
   "outputs": [],
   "source": [
    "import numpy as np\n",
    "import pandas as pd\n",
    "import matplotlib.pyplot as plt"
   ]
  },
  {
   "cell_type": "code",
   "execution_count": 2,
   "id": "ad8bb474",
   "metadata": {},
   "outputs": [],
   "source": [
    "from sklearn.preprocessing import StandardScaler\n",
    "from sklearn.neighbors import KNeighborsClassifier\n",
    "from sklearn.linear_model import LogisticRegression\n",
    "from sklearn.metrics import accuracy_score, confusion_matrix, plot_confusion_matrix\n",
    "from sklearn import tree"
   ]
  },
  {
   "cell_type": "markdown",
   "id": "23af9702",
   "metadata": {},
   "source": [
    " # Loading Test & Train Dataset"
   ]
  },
  {
   "cell_type": "code",
   "execution_count": 4,
   "id": "0a034084",
   "metadata": {},
   "outputs": [],
   "source": [
    "dataset = pd.read_csv('heart_train.csv')\n",
    "test = pd.read_csv('heart_test.csv')"
   ]
  },
  {
   "cell_type": "code",
   "execution_count": 5,
   "id": "31fd0f20",
   "metadata": {},
   "outputs": [
    {
     "data": {
      "text/plain": [
       "(10247, 18)"
      ]
     },
     "execution_count": 5,
     "metadata": {},
     "output_type": "execute_result"
    }
   ],
   "source": [
    "dataset.shape"
   ]
  },
  {
   "cell_type": "code",
   "execution_count": 6,
   "id": "59694a66",
   "metadata": {},
   "outputs": [
    {
     "data": {
      "text/plain": [
       "(569, 18)"
      ]
     },
     "execution_count": 6,
     "metadata": {},
     "output_type": "execute_result"
    }
   ],
   "source": [
    "test.shape"
   ]
  },
  {
   "cell_type": "code",
   "execution_count": 7,
   "id": "0964ebdc",
   "metadata": {},
   "outputs": [
    {
     "data": {
      "text/html": [
       "<div>\n",
       "<style scoped>\n",
       "    .dataframe tbody tr th:only-of-type {\n",
       "        vertical-align: middle;\n",
       "    }\n",
       "\n",
       "    .dataframe tbody tr th {\n",
       "        vertical-align: top;\n",
       "    }\n",
       "\n",
       "    .dataframe thead th {\n",
       "        text-align: right;\n",
       "    }\n",
       "</style>\n",
       "<table border=\"1\" class=\"dataframe\">\n",
       "  <thead>\n",
       "    <tr style=\"text-align: right;\">\n",
       "      <th></th>\n",
       "      <th>HeartDisease</th>\n",
       "      <th>Sex</th>\n",
       "      <th>Age</th>\n",
       "      <th>Race</th>\n",
       "      <th>BodyMassIndex</th>\n",
       "      <th>Smoking</th>\n",
       "      <th>AlcoholDrinking</th>\n",
       "      <th>SleepingHours</th>\n",
       "      <th>GeneticHealth</th>\n",
       "      <th>DifficultiesWalking</th>\n",
       "      <th>PhysicalActivity</th>\n",
       "      <th>DaysSickLastMonth</th>\n",
       "      <th>DaysBadMoodLastMonth</th>\n",
       "      <th>Diabetic</th>\n",
       "      <th>Asthma</th>\n",
       "      <th>Stroke</th>\n",
       "      <th>KidneyDisease</th>\n",
       "      <th>SkinCancer</th>\n",
       "    </tr>\n",
       "  </thead>\n",
       "  <tbody>\n",
       "    <tr>\n",
       "      <th>0</th>\n",
       "      <td>No</td>\n",
       "      <td>Male</td>\n",
       "      <td>75-79</td>\n",
       "      <td>B</td>\n",
       "      <td>26.29</td>\n",
       "      <td>Yes</td>\n",
       "      <td>No</td>\n",
       "      <td>6.0</td>\n",
       "      <td>Fair</td>\n",
       "      <td>No</td>\n",
       "      <td>Yes</td>\n",
       "      <td>0.0</td>\n",
       "      <td>15.0</td>\n",
       "      <td>No</td>\n",
       "      <td>No</td>\n",
       "      <td>No</td>\n",
       "      <td>No</td>\n",
       "      <td>No</td>\n",
       "    </tr>\n",
       "    <tr>\n",
       "      <th>1</th>\n",
       "      <td>No</td>\n",
       "      <td>Male</td>\n",
       "      <td>80 or older</td>\n",
       "      <td>B</td>\n",
       "      <td>26.63</td>\n",
       "      <td>Yes</td>\n",
       "      <td>No</td>\n",
       "      <td>8.0</td>\n",
       "      <td>Fair</td>\n",
       "      <td>No</td>\n",
       "      <td>Yes</td>\n",
       "      <td>0.0</td>\n",
       "      <td>0.0</td>\n",
       "      <td>No</td>\n",
       "      <td>No</td>\n",
       "      <td>Yes</td>\n",
       "      <td>No</td>\n",
       "      <td>Yes</td>\n",
       "    </tr>\n",
       "  </tbody>\n",
       "</table>\n",
       "</div>"
      ],
      "text/plain": [
       "  HeartDisease   Sex          Age Race  BodyMassIndex Smoking AlcoholDrinking  \\\n",
       "0           No  Male        75-79    B          26.29     Yes              No   \n",
       "1           No  Male  80 or older    B          26.63     Yes              No   \n",
       "\n",
       "   SleepingHours GeneticHealth DifficultiesWalking PhysicalActivity  \\\n",
       "0            6.0          Fair                  No              Yes   \n",
       "1            8.0          Fair                  No              Yes   \n",
       "\n",
       "   DaysSickLastMonth  DaysBadMoodLastMonth Diabetic Asthma Stroke  \\\n",
       "0                0.0                  15.0       No     No     No   \n",
       "1                0.0                   0.0       No     No    Yes   \n",
       "\n",
       "  KidneyDisease SkinCancer  \n",
       "0            No         No  \n",
       "1            No        Yes  "
      ]
     },
     "execution_count": 7,
     "metadata": {},
     "output_type": "execute_result"
    }
   ],
   "source": [
    "dataset.head(2)"
   ]
  },
  {
   "cell_type": "code",
   "execution_count": 8,
   "id": "07d0c11b",
   "metadata": {},
   "outputs": [
    {
     "data": {
      "text/plain": [
       "Index(['HeartDisease', 'Sex', 'Age', 'Race', 'BodyMassIndex', 'Smoking',\n",
       "       'AlcoholDrinking', 'SleepingHours', 'GeneticHealth',\n",
       "       'DifficultiesWalking', 'PhysicalActivity', 'DaysSickLastMonth',\n",
       "       'DaysBadMoodLastMonth', 'Diabetic', 'Asthma', 'Stroke', 'KidneyDisease',\n",
       "       'SkinCancer'],\n",
       "      dtype='object')"
      ]
     },
     "execution_count": 8,
     "metadata": {},
     "output_type": "execute_result"
    }
   ],
   "source": [
    "dataset.columns"
   ]
  },
  {
   "cell_type": "markdown",
   "id": "2029c36e",
   "metadata": {},
   "source": [
    "# Dropping race Column from both train & test \n",
    "* ### as this column is not so imporatant for our model "
   ]
  },
  {
   "cell_type": "code",
   "execution_count": 9,
   "id": "c2b59cc2",
   "metadata": {},
   "outputs": [],
   "source": [
    "dataset.drop('Race', inplace=True, axis=1)\n",
    "test.drop('Race', inplace=True, axis=1)"
   ]
  },
  {
   "cell_type": "code",
   "execution_count": 10,
   "id": "4eb0a2f8",
   "metadata": {},
   "outputs": [
    {
     "name": "stdout",
     "output_type": "stream",
     "text": [
      "(10247, 17)\n",
      "(569, 17)\n"
     ]
    }
   ],
   "source": [
    "print(dataset.shape)\n",
    "print(test.shape)"
   ]
  },
  {
   "cell_type": "markdown",
   "id": "a2ecee2d",
   "metadata": {},
   "source": [
    "# Dropping DaysBadMoodLastMonth Columns"
   ]
  },
  {
   "cell_type": "code",
   "execution_count": 11,
   "id": "5ff34896",
   "metadata": {},
   "outputs": [],
   "source": [
    "dataset.drop('DaysBadMoodLastMonth', inplace=True, axis=1)\n",
    "test.drop('DaysBadMoodLastMonth', inplace=True, axis=1)"
   ]
  },
  {
   "cell_type": "code",
   "execution_count": 12,
   "id": "3210c6de",
   "metadata": {},
   "outputs": [
    {
     "name": "stdout",
     "output_type": "stream",
     "text": [
      "(10247, 16)\n",
      "(569, 16)\n"
     ]
    }
   ],
   "source": [
    "print(dataset.shape)\n",
    "print(test.shape)"
   ]
  },
  {
   "cell_type": "code",
   "execution_count": 75,
   "id": "269a5307",
   "metadata": {
    "scrolled": true
   },
   "outputs": [
    {
     "data": {
      "text/html": [
       "<div>\n",
       "<style scoped>\n",
       "    .dataframe tbody tr th:only-of-type {\n",
       "        vertical-align: middle;\n",
       "    }\n",
       "\n",
       "    .dataframe tbody tr th {\n",
       "        vertical-align: top;\n",
       "    }\n",
       "\n",
       "    .dataframe thead th {\n",
       "        text-align: right;\n",
       "    }\n",
       "</style>\n",
       "<table border=\"1\" class=\"dataframe\">\n",
       "  <thead>\n",
       "    <tr style=\"text-align: right;\">\n",
       "      <th></th>\n",
       "      <th>HeartDisease</th>\n",
       "      <th>Sex</th>\n",
       "      <th>Age</th>\n",
       "      <th>BodyMassIndex</th>\n",
       "      <th>Smoking</th>\n",
       "      <th>AlcoholDrinking</th>\n",
       "      <th>SleepingHours</th>\n",
       "      <th>GeneticHealth</th>\n",
       "      <th>DifficultiesWalking</th>\n",
       "      <th>PhysicalActivity</th>\n",
       "      <th>DaysSickLastMonth</th>\n",
       "      <th>Diabetic</th>\n",
       "      <th>Asthma</th>\n",
       "      <th>Stroke</th>\n",
       "      <th>KidneyDisease</th>\n",
       "      <th>SkinCancer</th>\n",
       "    </tr>\n",
       "  </thead>\n",
       "  <tbody>\n",
       "    <tr>\n",
       "      <th>0</th>\n",
       "      <td>No</td>\n",
       "      <td>Male</td>\n",
       "      <td>75-79</td>\n",
       "      <td>26.29</td>\n",
       "      <td>Yes</td>\n",
       "      <td>No</td>\n",
       "      <td>6.0</td>\n",
       "      <td>Fair</td>\n",
       "      <td>No</td>\n",
       "      <td>Yes</td>\n",
       "      <td>0.0</td>\n",
       "      <td>No</td>\n",
       "      <td>No</td>\n",
       "      <td>No</td>\n",
       "      <td>No</td>\n",
       "      <td>No</td>\n",
       "    </tr>\n",
       "    <tr>\n",
       "      <th>1</th>\n",
       "      <td>No</td>\n",
       "      <td>Male</td>\n",
       "      <td>80 or older</td>\n",
       "      <td>26.63</td>\n",
       "      <td>Yes</td>\n",
       "      <td>No</td>\n",
       "      <td>8.0</td>\n",
       "      <td>Fair</td>\n",
       "      <td>No</td>\n",
       "      <td>Yes</td>\n",
       "      <td>0.0</td>\n",
       "      <td>No</td>\n",
       "      <td>No</td>\n",
       "      <td>Yes</td>\n",
       "      <td>No</td>\n",
       "      <td>Yes</td>\n",
       "    </tr>\n",
       "    <tr>\n",
       "      <th>2</th>\n",
       "      <td>Yes</td>\n",
       "      <td>Female</td>\n",
       "      <td>55-59</td>\n",
       "      <td>77.73</td>\n",
       "      <td>Yes</td>\n",
       "      <td>No</td>\n",
       "      <td>6.0</td>\n",
       "      <td>Good</td>\n",
       "      <td>Yes</td>\n",
       "      <td>No</td>\n",
       "      <td>5.0</td>\n",
       "      <td>Yes</td>\n",
       "      <td>No</td>\n",
       "      <td>No</td>\n",
       "      <td>No</td>\n",
       "      <td>No</td>\n",
       "    </tr>\n",
       "    <tr>\n",
       "      <th>3</th>\n",
       "      <td>Yes</td>\n",
       "      <td>Male</td>\n",
       "      <td>70-74</td>\n",
       "      <td>29.41</td>\n",
       "      <td>Yes</td>\n",
       "      <td>No</td>\n",
       "      <td>8.0</td>\n",
       "      <td>Fair</td>\n",
       "      <td>Yes</td>\n",
       "      <td>Yes</td>\n",
       "      <td>0.0</td>\n",
       "      <td>Yes</td>\n",
       "      <td>No</td>\n",
       "      <td>No</td>\n",
       "      <td>No</td>\n",
       "      <td>Yes</td>\n",
       "    </tr>\n",
       "    <tr>\n",
       "      <th>4</th>\n",
       "      <td>Yes</td>\n",
       "      <td>Female</td>\n",
       "      <td>75-79</td>\n",
       "      <td>47.55</td>\n",
       "      <td>Yes</td>\n",
       "      <td>No</td>\n",
       "      <td>6.0</td>\n",
       "      <td>Fair</td>\n",
       "      <td>Yes</td>\n",
       "      <td>No</td>\n",
       "      <td>30.0</td>\n",
       "      <td>Yes</td>\n",
       "      <td>No</td>\n",
       "      <td>No</td>\n",
       "      <td>Yes</td>\n",
       "      <td>No</td>\n",
       "    </tr>\n",
       "  </tbody>\n",
       "</table>\n",
       "</div>"
      ],
      "text/plain": [
       "  HeartDisease     Sex          Age  BodyMassIndex Smoking AlcoholDrinking  \\\n",
       "0           No    Male        75-79          26.29     Yes              No   \n",
       "1           No    Male  80 or older          26.63     Yes              No   \n",
       "2          Yes  Female        55-59          77.73     Yes              No   \n",
       "3          Yes    Male        70-74          29.41     Yes              No   \n",
       "4          Yes  Female        75-79          47.55     Yes              No   \n",
       "\n",
       "   SleepingHours GeneticHealth DifficultiesWalking PhysicalActivity  \\\n",
       "0            6.0          Fair                  No              Yes   \n",
       "1            8.0          Fair                  No              Yes   \n",
       "2            6.0          Good                 Yes               No   \n",
       "3            8.0          Fair                 Yes              Yes   \n",
       "4            6.0          Fair                 Yes               No   \n",
       "\n",
       "   DaysSickLastMonth Diabetic Asthma Stroke KidneyDisease SkinCancer  \n",
       "0                0.0       No     No     No            No         No  \n",
       "1                0.0       No     No    Yes            No        Yes  \n",
       "2                5.0      Yes     No     No            No         No  \n",
       "3                0.0      Yes     No     No            No        Yes  \n",
       "4               30.0      Yes     No     No           Yes         No  "
      ]
     },
     "execution_count": 75,
     "metadata": {},
     "output_type": "execute_result"
    }
   ],
   "source": [
    "dataset.head()"
   ]
  },
  {
   "cell_type": "code",
   "execution_count": 76,
   "id": "1a19177e",
   "metadata": {},
   "outputs": [
    {
     "data": {
      "text/html": [
       "<div>\n",
       "<style scoped>\n",
       "    .dataframe tbody tr th:only-of-type {\n",
       "        vertical-align: middle;\n",
       "    }\n",
       "\n",
       "    .dataframe tbody tr th {\n",
       "        vertical-align: top;\n",
       "    }\n",
       "\n",
       "    .dataframe thead th {\n",
       "        text-align: right;\n",
       "    }\n",
       "</style>\n",
       "<table border=\"1\" class=\"dataframe\">\n",
       "  <thead>\n",
       "    <tr style=\"text-align: right;\">\n",
       "      <th></th>\n",
       "      <th>HeartDisease</th>\n",
       "      <th>Sex</th>\n",
       "      <th>Age</th>\n",
       "      <th>BodyMassIndex</th>\n",
       "      <th>Smoking</th>\n",
       "      <th>AlcoholDrinking</th>\n",
       "      <th>SleepingHours</th>\n",
       "      <th>GeneticHealth</th>\n",
       "      <th>DifficultiesWalking</th>\n",
       "      <th>PhysicalActivity</th>\n",
       "      <th>DaysSickLastMonth</th>\n",
       "      <th>Diabetic</th>\n",
       "      <th>Asthma</th>\n",
       "      <th>Stroke</th>\n",
       "      <th>KidneyDisease</th>\n",
       "      <th>SkinCancer</th>\n",
       "    </tr>\n",
       "  </thead>\n",
       "  <tbody>\n",
       "    <tr>\n",
       "      <th>0</th>\n",
       "      <td>Yes</td>\n",
       "      <td>Female</td>\n",
       "      <td>70-74</td>\n",
       "      <td>22.46</td>\n",
       "      <td>Yes</td>\n",
       "      <td>No</td>\n",
       "      <td>6.0</td>\n",
       "      <td>Fair</td>\n",
       "      <td>No</td>\n",
       "      <td>Yes</td>\n",
       "      <td>0.0</td>\n",
       "      <td>No</td>\n",
       "      <td>No</td>\n",
       "      <td>Yes</td>\n",
       "      <td>No</td>\n",
       "      <td>No</td>\n",
       "    </tr>\n",
       "    <tr>\n",
       "      <th>1</th>\n",
       "      <td>Yes</td>\n",
       "      <td>Male</td>\n",
       "      <td>65-69</td>\n",
       "      <td>31.46</td>\n",
       "      <td>Yes</td>\n",
       "      <td>No</td>\n",
       "      <td>8.0</td>\n",
       "      <td>Very good</td>\n",
       "      <td>No</td>\n",
       "      <td>Yes</td>\n",
       "      <td>2.0</td>\n",
       "      <td>Yes</td>\n",
       "      <td>No</td>\n",
       "      <td>No</td>\n",
       "      <td>No</td>\n",
       "      <td>No</td>\n",
       "    </tr>\n",
       "    <tr>\n",
       "      <th>2</th>\n",
       "      <td>Yes</td>\n",
       "      <td>Male</td>\n",
       "      <td>65-69</td>\n",
       "      <td>32.28</td>\n",
       "      <td>Yes</td>\n",
       "      <td>No</td>\n",
       "      <td>7.0</td>\n",
       "      <td>Very good</td>\n",
       "      <td>No</td>\n",
       "      <td>Yes</td>\n",
       "      <td>3.0</td>\n",
       "      <td>Yes</td>\n",
       "      <td>No</td>\n",
       "      <td>No</td>\n",
       "      <td>No</td>\n",
       "      <td>Yes</td>\n",
       "    </tr>\n",
       "    <tr>\n",
       "      <th>3</th>\n",
       "      <td>No</td>\n",
       "      <td>Female</td>\n",
       "      <td>80 or older</td>\n",
       "      <td>23.30</td>\n",
       "      <td>Yes</td>\n",
       "      <td>No</td>\n",
       "      <td>6.0</td>\n",
       "      <td>Excellent</td>\n",
       "      <td>No</td>\n",
       "      <td>No</td>\n",
       "      <td>0.0</td>\n",
       "      <td>No</td>\n",
       "      <td>No</td>\n",
       "      <td>No</td>\n",
       "      <td>No</td>\n",
       "      <td>No</td>\n",
       "    </tr>\n",
       "    <tr>\n",
       "      <th>4</th>\n",
       "      <td>No</td>\n",
       "      <td>Male</td>\n",
       "      <td>65-69</td>\n",
       "      <td>19.91</td>\n",
       "      <td>No</td>\n",
       "      <td>No</td>\n",
       "      <td>6.0</td>\n",
       "      <td>Excellent</td>\n",
       "      <td>No</td>\n",
       "      <td>Yes</td>\n",
       "      <td>0.0</td>\n",
       "      <td>Yes</td>\n",
       "      <td>No</td>\n",
       "      <td>No</td>\n",
       "      <td>No</td>\n",
       "      <td>No</td>\n",
       "    </tr>\n",
       "  </tbody>\n",
       "</table>\n",
       "</div>"
      ],
      "text/plain": [
       "  HeartDisease     Sex          Age  BodyMassIndex Smoking AlcoholDrinking  \\\n",
       "0          Yes  Female        70-74          22.46     Yes              No   \n",
       "1          Yes    Male        65-69          31.46     Yes              No   \n",
       "2          Yes    Male        65-69          32.28     Yes              No   \n",
       "3           No  Female  80 or older          23.30     Yes              No   \n",
       "4           No    Male        65-69          19.91      No              No   \n",
       "\n",
       "   SleepingHours GeneticHealth DifficultiesWalking PhysicalActivity  \\\n",
       "0            6.0          Fair                  No              Yes   \n",
       "1            8.0     Very good                  No              Yes   \n",
       "2            7.0     Very good                  No              Yes   \n",
       "3            6.0     Excellent                  No               No   \n",
       "4            6.0     Excellent                  No              Yes   \n",
       "\n",
       "   DaysSickLastMonth Diabetic Asthma Stroke KidneyDisease SkinCancer  \n",
       "0                0.0       No     No    Yes            No         No  \n",
       "1                2.0      Yes     No     No            No         No  \n",
       "2                3.0      Yes     No     No            No        Yes  \n",
       "3                0.0       No     No     No            No         No  \n",
       "4                0.0      Yes     No     No            No         No  "
      ]
     },
     "execution_count": 76,
     "metadata": {},
     "output_type": "execute_result"
    }
   ],
   "source": [
    "test.head()"
   ]
  },
  {
   "cell_type": "markdown",
   "id": "a0365713",
   "metadata": {},
   "source": [
    "# Creating Dummies Variable for both datasets"
   ]
  },
  {
   "cell_type": "code",
   "execution_count": 15,
   "id": "c5882c9a",
   "metadata": {},
   "outputs": [],
   "source": [
    "df1 = pd.get_dummies(dataset)\n",
    "tf1 = pd.get_dummies(test)"
   ]
  },
  {
   "cell_type": "code",
   "execution_count": 16,
   "id": "3435b522",
   "metadata": {},
   "outputs": [
    {
     "name": "stdout",
     "output_type": "stream",
     "text": [
      "(10247, 45)\n",
      "(569, 45)\n"
     ]
    }
   ],
   "source": [
    "print(df1.shape)\n",
    "print(tf1.shape)"
   ]
  },
  {
   "cell_type": "code",
   "execution_count": 17,
   "id": "08365585",
   "metadata": {
    "scrolled": false
   },
   "outputs": [
    {
     "data": {
      "text/html": [
       "<div>\n",
       "<style scoped>\n",
       "    .dataframe tbody tr th:only-of-type {\n",
       "        vertical-align: middle;\n",
       "    }\n",
       "\n",
       "    .dataframe tbody tr th {\n",
       "        vertical-align: top;\n",
       "    }\n",
       "\n",
       "    .dataframe thead th {\n",
       "        text-align: right;\n",
       "    }\n",
       "</style>\n",
       "<table border=\"1\" class=\"dataframe\">\n",
       "  <thead>\n",
       "    <tr style=\"text-align: right;\">\n",
       "      <th></th>\n",
       "      <th>BodyMassIndex</th>\n",
       "      <th>SleepingHours</th>\n",
       "      <th>DaysSickLastMonth</th>\n",
       "      <th>HeartDisease_No</th>\n",
       "      <th>HeartDisease_Yes</th>\n",
       "      <th>Sex_Female</th>\n",
       "      <th>Sex_Male</th>\n",
       "      <th>Age_18-24</th>\n",
       "      <th>Age_25-29</th>\n",
       "      <th>Age_30-34</th>\n",
       "      <th>...</th>\n",
       "      <th>Diabetic_Yes</th>\n",
       "      <th>Diabetic_Yes (during pregnancy)</th>\n",
       "      <th>Asthma_No</th>\n",
       "      <th>Asthma_Yes</th>\n",
       "      <th>Stroke_No</th>\n",
       "      <th>Stroke_Yes</th>\n",
       "      <th>KidneyDisease_No</th>\n",
       "      <th>KidneyDisease_Yes</th>\n",
       "      <th>SkinCancer_No</th>\n",
       "      <th>SkinCancer_Yes</th>\n",
       "    </tr>\n",
       "  </thead>\n",
       "  <tbody>\n",
       "    <tr>\n",
       "      <th>0</th>\n",
       "      <td>26.29</td>\n",
       "      <td>6.0</td>\n",
       "      <td>0.0</td>\n",
       "      <td>1</td>\n",
       "      <td>0</td>\n",
       "      <td>0</td>\n",
       "      <td>1</td>\n",
       "      <td>0</td>\n",
       "      <td>0</td>\n",
       "      <td>0</td>\n",
       "      <td>...</td>\n",
       "      <td>0</td>\n",
       "      <td>0</td>\n",
       "      <td>1</td>\n",
       "      <td>0</td>\n",
       "      <td>1</td>\n",
       "      <td>0</td>\n",
       "      <td>1</td>\n",
       "      <td>0</td>\n",
       "      <td>1</td>\n",
       "      <td>0</td>\n",
       "    </tr>\n",
       "    <tr>\n",
       "      <th>1</th>\n",
       "      <td>26.63</td>\n",
       "      <td>8.0</td>\n",
       "      <td>0.0</td>\n",
       "      <td>1</td>\n",
       "      <td>0</td>\n",
       "      <td>0</td>\n",
       "      <td>1</td>\n",
       "      <td>0</td>\n",
       "      <td>0</td>\n",
       "      <td>0</td>\n",
       "      <td>...</td>\n",
       "      <td>0</td>\n",
       "      <td>0</td>\n",
       "      <td>1</td>\n",
       "      <td>0</td>\n",
       "      <td>0</td>\n",
       "      <td>1</td>\n",
       "      <td>1</td>\n",
       "      <td>0</td>\n",
       "      <td>0</td>\n",
       "      <td>1</td>\n",
       "    </tr>\n",
       "  </tbody>\n",
       "</table>\n",
       "<p>2 rows × 45 columns</p>\n",
       "</div>"
      ],
      "text/plain": [
       "   BodyMassIndex  SleepingHours  DaysSickLastMonth  HeartDisease_No  \\\n",
       "0          26.29            6.0                0.0                1   \n",
       "1          26.63            8.0                0.0                1   \n",
       "\n",
       "   HeartDisease_Yes  Sex_Female  Sex_Male  Age_18-24  Age_25-29  Age_30-34  \\\n",
       "0                 0           0         1          0          0          0   \n",
       "1                 0           0         1          0          0          0   \n",
       "\n",
       "   ...  Diabetic_Yes  Diabetic_Yes (during pregnancy)  Asthma_No  Asthma_Yes  \\\n",
       "0  ...             0                                0          1           0   \n",
       "1  ...             0                                0          1           0   \n",
       "\n",
       "   Stroke_No  Stroke_Yes  KidneyDisease_No  KidneyDisease_Yes  SkinCancer_No  \\\n",
       "0          1           0                 1                  0              1   \n",
       "1          0           1                 1                  0              0   \n",
       "\n",
       "   SkinCancer_Yes  \n",
       "0               0  \n",
       "1               1  \n",
       "\n",
       "[2 rows x 45 columns]"
      ]
     },
     "execution_count": 17,
     "metadata": {},
     "output_type": "execute_result"
    }
   ],
   "source": [
    "df1.head(2)"
   ]
  },
  {
   "cell_type": "code",
   "execution_count": 18,
   "id": "93a2f9c6",
   "metadata": {},
   "outputs": [
    {
     "data": {
      "text/plain": [
       "(569, 45)"
      ]
     },
     "execution_count": 18,
     "metadata": {},
     "output_type": "execute_result"
    }
   ],
   "source": [
    "tf1.head(2)\n",
    "tf1.shape"
   ]
  },
  {
   "cell_type": "code",
   "execution_count": 19,
   "id": "7c2d977d",
   "metadata": {},
   "outputs": [
    {
     "data": {
      "text/plain": [
       "Index(['BodyMassIndex', 'SleepingHours', 'DaysSickLastMonth',\n",
       "       'HeartDisease_No', 'HeartDisease_Yes', 'Sex_Female', 'Sex_Male',\n",
       "       'Age_18-24', 'Age_25-29', 'Age_30-34', 'Age_35-39', 'Age_40-44',\n",
       "       'Age_45-49', 'Age_50-54', 'Age_55-59', 'Age_60-64', 'Age_65-69',\n",
       "       'Age_70-74', 'Age_75-79', 'Age_80 or older', 'Smoking_No',\n",
       "       'Smoking_Yes', 'AlcoholDrinking_No', 'AlcoholDrinking_Yes',\n",
       "       'GeneticHealth_Excellent', 'GeneticHealth_Fair', 'GeneticHealth_Good',\n",
       "       'GeneticHealth_Poor', 'GeneticHealth_Very good',\n",
       "       'DifficultiesWalking_No', 'DifficultiesWalking_Yes',\n",
       "       'PhysicalActivity_No', 'PhysicalActivity_Yes', 'Diabetic_No',\n",
       "       'Diabetic_No, borderline diabetes', 'Diabetic_Yes',\n",
       "       'Diabetic_Yes (during pregnancy)', 'Asthma_No', 'Asthma_Yes',\n",
       "       'Stroke_No', 'Stroke_Yes', 'KidneyDisease_No', 'KidneyDisease_Yes',\n",
       "       'SkinCancer_No', 'SkinCancer_Yes'],\n",
       "      dtype='object')"
      ]
     },
     "execution_count": 19,
     "metadata": {},
     "output_type": "execute_result"
    }
   ],
   "source": [
    "df1.columns"
   ]
  },
  {
   "cell_type": "markdown",
   "id": "e1ea8230",
   "metadata": {},
   "source": [
    "# Separation of Numerical Columns from Dataset"
   ]
  },
  {
   "cell_type": "code",
   "execution_count": 20,
   "id": "4b2dc4b9",
   "metadata": {},
   "outputs": [],
   "source": [
    "df2 = df1[['BodyMassIndex', 'SleepingHours', 'DaysSickLastMonth']]\n",
    "tf2 = tf1[['BodyMassIndex', 'SleepingHours', 'DaysSickLastMonth']]"
   ]
  },
  {
   "cell_type": "code",
   "execution_count": 21,
   "id": "86b622e8",
   "metadata": {},
   "outputs": [
    {
     "name": "stdout",
     "output_type": "stream",
     "text": [
      "(10247, 3)\n",
      "(569, 3)\n"
     ]
    }
   ],
   "source": [
    "print(df2.shape)\n",
    "print(tf2.shape)"
   ]
  },
  {
   "cell_type": "markdown",
   "id": "7a03356c",
   "metadata": {},
   "source": [
    "# Dropping Numerical Columns from Dataset for separating categorical data"
   ]
  },
  {
   "cell_type": "code",
   "execution_count": 22,
   "id": "644f9406",
   "metadata": {},
   "outputs": [],
   "source": [
    "df3 = df1.drop(['BodyMassIndex', 'SleepingHours', 'DaysSickLastMonth'], axis = 1)\n",
    "tf3 = tf1.drop(['BodyMassIndex', 'SleepingHours', 'DaysSickLastMonth'], axis = 1)"
   ]
  },
  {
   "cell_type": "code",
   "execution_count": 23,
   "id": "025b9466",
   "metadata": {},
   "outputs": [
    {
     "name": "stdout",
     "output_type": "stream",
     "text": [
      "(10247, 42)\n",
      "(569, 42)\n"
     ]
    }
   ],
   "source": [
    "print(df3.shape)\n",
    "print(tf3.shape)"
   ]
  },
  {
   "cell_type": "markdown",
   "id": "d52040a8",
   "metadata": {},
   "source": [
    "# Scaling of both test and train data for Numerical Columns"
   ]
  },
  {
   "cell_type": "code",
   "execution_count": 25,
   "id": "83f0718b",
   "metadata": {},
   "outputs": [],
   "source": [
    "scale = StandardScaler()"
   ]
  },
  {
   "cell_type": "code",
   "execution_count": 26,
   "id": "2db83f51",
   "metadata": {},
   "outputs": [],
   "source": [
    "scaled_df2 = scale.fit_transform(df2)\n",
    "scaled_tf2 = scale.fit_transform(tf2)"
   ]
  },
  {
   "cell_type": "code",
   "execution_count": 27,
   "id": "1a5d9124",
   "metadata": {
    "scrolled": false
   },
   "outputs": [
    {
     "name": "stdout",
     "output_type": "stream",
     "text": [
      "[[-3.68612730e-01 -7.55532963e-01 -5.19257114e-01]\n",
      " [-3.14658692e-01  5.68216079e-01 -5.19257114e-01]\n",
      " [ 7.79431589e+00 -7.55532963e-01 -5.95108387e-03]\n",
      " ...\n",
      " [-1.10810043e+00  5.68216079e-01 -5.19257114e-01]\n",
      " [-8.97044929e-01 -7.55532963e-01 -3.13934702e-01]\n",
      " [-8.43090890e-01 -9.36584420e-02 -2.11273496e-01]]\n"
     ]
    }
   ],
   "source": [
    "print(scaled_df2)"
   ]
  },
  {
   "cell_type": "code",
   "execution_count": 28,
   "id": "6c9cc15e",
   "metadata": {},
   "outputs": [
    {
     "name": "stdout",
     "output_type": "stream",
     "text": [
      "[[-0.96995643 -0.58827707 -0.63037109]\n",
      " [ 0.30153227  0.71417294 -0.44652632]\n",
      " [ 0.41737901  0.06294794 -0.35460393]\n",
      " ...\n",
      " [-0.26639935  0.06294794 -0.63037109]\n",
      " [-0.4514716   0.06294794 -0.63037109]\n",
      " [-1.08721595 -0.58827707 -0.35460393]]\n"
     ]
    }
   ],
   "source": [
    "print(scaled_tf2)"
   ]
  },
  {
   "cell_type": "code",
   "execution_count": 29,
   "id": "a99e80df",
   "metadata": {},
   "outputs": [
    {
     "name": "stdout",
     "output_type": "stream",
     "text": [
      "(10247, 3)\n",
      "(569, 3)\n"
     ]
    }
   ],
   "source": [
    "print(scaled_df2.shape)\n",
    "print(scaled_tf2.shape)"
   ]
  },
  {
   "cell_type": "markdown",
   "id": "34d67dca",
   "metadata": {},
   "source": [
    "# Converting numpy array to pandas Dataframe(for concatinating)"
   ]
  },
  {
   "cell_type": "code",
   "execution_count": 30,
   "id": "b11b2093",
   "metadata": {},
   "outputs": [],
   "source": [
    "scaled_df2 = pd.DataFrame(scaled_df2, columns = ['BodyMassIndex', 'SleepingHours', 'DaysSickLastMonth'])\n",
    "scaled_tf2 = pd.DataFrame(scaled_tf2, columns = ['BodyMassIndex', 'SleepingHours', 'DaysSickLastMonth'])"
   ]
  },
  {
   "cell_type": "code",
   "execution_count": 31,
   "id": "2cdc0224",
   "metadata": {
    "scrolled": true
   },
   "outputs": [
    {
     "data": {
      "text/html": [
       "<div>\n",
       "<style scoped>\n",
       "    .dataframe tbody tr th:only-of-type {\n",
       "        vertical-align: middle;\n",
       "    }\n",
       "\n",
       "    .dataframe tbody tr th {\n",
       "        vertical-align: top;\n",
       "    }\n",
       "\n",
       "    .dataframe thead th {\n",
       "        text-align: right;\n",
       "    }\n",
       "</style>\n",
       "<table border=\"1\" class=\"dataframe\">\n",
       "  <thead>\n",
       "    <tr style=\"text-align: right;\">\n",
       "      <th></th>\n",
       "      <th>BodyMassIndex</th>\n",
       "      <th>SleepingHours</th>\n",
       "      <th>DaysSickLastMonth</th>\n",
       "    </tr>\n",
       "  </thead>\n",
       "  <tbody>\n",
       "    <tr>\n",
       "      <th>0</th>\n",
       "      <td>-0.368613</td>\n",
       "      <td>-0.755533</td>\n",
       "      <td>-0.519257</td>\n",
       "    </tr>\n",
       "    <tr>\n",
       "      <th>1</th>\n",
       "      <td>-0.314659</td>\n",
       "      <td>0.568216</td>\n",
       "      <td>-0.519257</td>\n",
       "    </tr>\n",
       "    <tr>\n",
       "      <th>2</th>\n",
       "      <td>7.794316</td>\n",
       "      <td>-0.755533</td>\n",
       "      <td>-0.005951</td>\n",
       "    </tr>\n",
       "    <tr>\n",
       "      <th>3</th>\n",
       "      <td>0.126495</td>\n",
       "      <td>0.568216</td>\n",
       "      <td>-0.519257</td>\n",
       "    </tr>\n",
       "    <tr>\n",
       "      <th>4</th>\n",
       "      <td>3.005102</td>\n",
       "      <td>-0.755533</td>\n",
       "      <td>2.560579</td>\n",
       "    </tr>\n",
       "  </tbody>\n",
       "</table>\n",
       "</div>"
      ],
      "text/plain": [
       "   BodyMassIndex  SleepingHours  DaysSickLastMonth\n",
       "0      -0.368613      -0.755533          -0.519257\n",
       "1      -0.314659       0.568216          -0.519257\n",
       "2       7.794316      -0.755533          -0.005951\n",
       "3       0.126495       0.568216          -0.519257\n",
       "4       3.005102      -0.755533           2.560579"
      ]
     },
     "execution_count": 31,
     "metadata": {},
     "output_type": "execute_result"
    }
   ],
   "source": [
    "scaled_df2.head()"
   ]
  },
  {
   "cell_type": "code",
   "execution_count": 32,
   "id": "51727468",
   "metadata": {
    "scrolled": true
   },
   "outputs": [
    {
     "data": {
      "text/html": [
       "<div>\n",
       "<style scoped>\n",
       "    .dataframe tbody tr th:only-of-type {\n",
       "        vertical-align: middle;\n",
       "    }\n",
       "\n",
       "    .dataframe tbody tr th {\n",
       "        vertical-align: top;\n",
       "    }\n",
       "\n",
       "    .dataframe thead th {\n",
       "        text-align: right;\n",
       "    }\n",
       "</style>\n",
       "<table border=\"1\" class=\"dataframe\">\n",
       "  <thead>\n",
       "    <tr style=\"text-align: right;\">\n",
       "      <th></th>\n",
       "      <th>BodyMassIndex</th>\n",
       "      <th>SleepingHours</th>\n",
       "      <th>DaysSickLastMonth</th>\n",
       "    </tr>\n",
       "  </thead>\n",
       "  <tbody>\n",
       "    <tr>\n",
       "      <th>0</th>\n",
       "      <td>-0.969956</td>\n",
       "      <td>-0.588277</td>\n",
       "      <td>-0.630371</td>\n",
       "    </tr>\n",
       "    <tr>\n",
       "      <th>1</th>\n",
       "      <td>0.301532</td>\n",
       "      <td>0.714173</td>\n",
       "      <td>-0.446526</td>\n",
       "    </tr>\n",
       "    <tr>\n",
       "      <th>2</th>\n",
       "      <td>0.417379</td>\n",
       "      <td>0.062948</td>\n",
       "      <td>-0.354604</td>\n",
       "    </tr>\n",
       "    <tr>\n",
       "      <th>3</th>\n",
       "      <td>-0.851284</td>\n",
       "      <td>-0.588277</td>\n",
       "      <td>-0.630371</td>\n",
       "    </tr>\n",
       "    <tr>\n",
       "      <th>4</th>\n",
       "      <td>-1.330212</td>\n",
       "      <td>-0.588277</td>\n",
       "      <td>-0.630371</td>\n",
       "    </tr>\n",
       "  </tbody>\n",
       "</table>\n",
       "</div>"
      ],
      "text/plain": [
       "   BodyMassIndex  SleepingHours  DaysSickLastMonth\n",
       "0      -0.969956      -0.588277          -0.630371\n",
       "1       0.301532       0.714173          -0.446526\n",
       "2       0.417379       0.062948          -0.354604\n",
       "3      -0.851284      -0.588277          -0.630371\n",
       "4      -1.330212      -0.588277          -0.630371"
      ]
     },
     "execution_count": 32,
     "metadata": {},
     "output_type": "execute_result"
    }
   ],
   "source": [
    "scaled_tf2.head()"
   ]
  },
  {
   "cell_type": "markdown",
   "id": "263320da",
   "metadata": {},
   "source": [
    "# Concatinating separates dataset to form one single dataset for both"
   ]
  },
  {
   "cell_type": "code",
   "execution_count": 33,
   "id": "67676bea",
   "metadata": {},
   "outputs": [],
   "source": [
    "df4=pd.concat([scaled_df2, df3], axis=1)\n",
    "tf4=pd.concat([scaled_tf2, tf3], axis=1)"
   ]
  },
  {
   "cell_type": "code",
   "execution_count": 34,
   "id": "07def315",
   "metadata": {
    "scrolled": true
   },
   "outputs": [
    {
     "data": {
      "text/html": [
       "<div>\n",
       "<style scoped>\n",
       "    .dataframe tbody tr th:only-of-type {\n",
       "        vertical-align: middle;\n",
       "    }\n",
       "\n",
       "    .dataframe tbody tr th {\n",
       "        vertical-align: top;\n",
       "    }\n",
       "\n",
       "    .dataframe thead th {\n",
       "        text-align: right;\n",
       "    }\n",
       "</style>\n",
       "<table border=\"1\" class=\"dataframe\">\n",
       "  <thead>\n",
       "    <tr style=\"text-align: right;\">\n",
       "      <th></th>\n",
       "      <th>BodyMassIndex</th>\n",
       "      <th>SleepingHours</th>\n",
       "      <th>DaysSickLastMonth</th>\n",
       "      <th>HeartDisease_No</th>\n",
       "      <th>HeartDisease_Yes</th>\n",
       "      <th>Sex_Female</th>\n",
       "      <th>Sex_Male</th>\n",
       "      <th>Age_18-24</th>\n",
       "      <th>Age_25-29</th>\n",
       "      <th>Age_30-34</th>\n",
       "      <th>...</th>\n",
       "      <th>Diabetic_Yes</th>\n",
       "      <th>Diabetic_Yes (during pregnancy)</th>\n",
       "      <th>Asthma_No</th>\n",
       "      <th>Asthma_Yes</th>\n",
       "      <th>Stroke_No</th>\n",
       "      <th>Stroke_Yes</th>\n",
       "      <th>KidneyDisease_No</th>\n",
       "      <th>KidneyDisease_Yes</th>\n",
       "      <th>SkinCancer_No</th>\n",
       "      <th>SkinCancer_Yes</th>\n",
       "    </tr>\n",
       "  </thead>\n",
       "  <tbody>\n",
       "    <tr>\n",
       "      <th>0</th>\n",
       "      <td>-0.368613</td>\n",
       "      <td>-0.755533</td>\n",
       "      <td>-0.519257</td>\n",
       "      <td>1</td>\n",
       "      <td>0</td>\n",
       "      <td>0</td>\n",
       "      <td>1</td>\n",
       "      <td>0</td>\n",
       "      <td>0</td>\n",
       "      <td>0</td>\n",
       "      <td>...</td>\n",
       "      <td>0</td>\n",
       "      <td>0</td>\n",
       "      <td>1</td>\n",
       "      <td>0</td>\n",
       "      <td>1</td>\n",
       "      <td>0</td>\n",
       "      <td>1</td>\n",
       "      <td>0</td>\n",
       "      <td>1</td>\n",
       "      <td>0</td>\n",
       "    </tr>\n",
       "    <tr>\n",
       "      <th>1</th>\n",
       "      <td>-0.314659</td>\n",
       "      <td>0.568216</td>\n",
       "      <td>-0.519257</td>\n",
       "      <td>1</td>\n",
       "      <td>0</td>\n",
       "      <td>0</td>\n",
       "      <td>1</td>\n",
       "      <td>0</td>\n",
       "      <td>0</td>\n",
       "      <td>0</td>\n",
       "      <td>...</td>\n",
       "      <td>0</td>\n",
       "      <td>0</td>\n",
       "      <td>1</td>\n",
       "      <td>0</td>\n",
       "      <td>0</td>\n",
       "      <td>1</td>\n",
       "      <td>1</td>\n",
       "      <td>0</td>\n",
       "      <td>0</td>\n",
       "      <td>1</td>\n",
       "    </tr>\n",
       "    <tr>\n",
       "      <th>2</th>\n",
       "      <td>7.794316</td>\n",
       "      <td>-0.755533</td>\n",
       "      <td>-0.005951</td>\n",
       "      <td>0</td>\n",
       "      <td>1</td>\n",
       "      <td>1</td>\n",
       "      <td>0</td>\n",
       "      <td>0</td>\n",
       "      <td>0</td>\n",
       "      <td>0</td>\n",
       "      <td>...</td>\n",
       "      <td>1</td>\n",
       "      <td>0</td>\n",
       "      <td>1</td>\n",
       "      <td>0</td>\n",
       "      <td>1</td>\n",
       "      <td>0</td>\n",
       "      <td>1</td>\n",
       "      <td>0</td>\n",
       "      <td>1</td>\n",
       "      <td>0</td>\n",
       "    </tr>\n",
       "    <tr>\n",
       "      <th>3</th>\n",
       "      <td>0.126495</td>\n",
       "      <td>0.568216</td>\n",
       "      <td>-0.519257</td>\n",
       "      <td>0</td>\n",
       "      <td>1</td>\n",
       "      <td>0</td>\n",
       "      <td>1</td>\n",
       "      <td>0</td>\n",
       "      <td>0</td>\n",
       "      <td>0</td>\n",
       "      <td>...</td>\n",
       "      <td>1</td>\n",
       "      <td>0</td>\n",
       "      <td>1</td>\n",
       "      <td>0</td>\n",
       "      <td>1</td>\n",
       "      <td>0</td>\n",
       "      <td>1</td>\n",
       "      <td>0</td>\n",
       "      <td>0</td>\n",
       "      <td>1</td>\n",
       "    </tr>\n",
       "  </tbody>\n",
       "</table>\n",
       "<p>4 rows × 45 columns</p>\n",
       "</div>"
      ],
      "text/plain": [
       "   BodyMassIndex  SleepingHours  DaysSickLastMonth  HeartDisease_No  \\\n",
       "0      -0.368613      -0.755533          -0.519257                1   \n",
       "1      -0.314659       0.568216          -0.519257                1   \n",
       "2       7.794316      -0.755533          -0.005951                0   \n",
       "3       0.126495       0.568216          -0.519257                0   \n",
       "\n",
       "   HeartDisease_Yes  Sex_Female  Sex_Male  Age_18-24  Age_25-29  Age_30-34  \\\n",
       "0                 0           0         1          0          0          0   \n",
       "1                 0           0         1          0          0          0   \n",
       "2                 1           1         0          0          0          0   \n",
       "3                 1           0         1          0          0          0   \n",
       "\n",
       "   ...  Diabetic_Yes  Diabetic_Yes (during pregnancy)  Asthma_No  Asthma_Yes  \\\n",
       "0  ...             0                                0          1           0   \n",
       "1  ...             0                                0          1           0   \n",
       "2  ...             1                                0          1           0   \n",
       "3  ...             1                                0          1           0   \n",
       "\n",
       "   Stroke_No  Stroke_Yes  KidneyDisease_No  KidneyDisease_Yes  SkinCancer_No  \\\n",
       "0          1           0                 1                  0              1   \n",
       "1          0           1                 1                  0              0   \n",
       "2          1           0                 1                  0              1   \n",
       "3          1           0                 1                  0              0   \n",
       "\n",
       "   SkinCancer_Yes  \n",
       "0               0  \n",
       "1               1  \n",
       "2               0  \n",
       "3               1  \n",
       "\n",
       "[4 rows x 45 columns]"
      ]
     },
     "execution_count": 34,
     "metadata": {},
     "output_type": "execute_result"
    }
   ],
   "source": [
    "df4.head(4)"
   ]
  },
  {
   "cell_type": "code",
   "execution_count": 35,
   "id": "1136c47b",
   "metadata": {
    "scrolled": true
   },
   "outputs": [
    {
     "data": {
      "text/html": [
       "<div>\n",
       "<style scoped>\n",
       "    .dataframe tbody tr th:only-of-type {\n",
       "        vertical-align: middle;\n",
       "    }\n",
       "\n",
       "    .dataframe tbody tr th {\n",
       "        vertical-align: top;\n",
       "    }\n",
       "\n",
       "    .dataframe thead th {\n",
       "        text-align: right;\n",
       "    }\n",
       "</style>\n",
       "<table border=\"1\" class=\"dataframe\">\n",
       "  <thead>\n",
       "    <tr style=\"text-align: right;\">\n",
       "      <th></th>\n",
       "      <th>BodyMassIndex</th>\n",
       "      <th>SleepingHours</th>\n",
       "      <th>DaysSickLastMonth</th>\n",
       "      <th>HeartDisease_No</th>\n",
       "      <th>HeartDisease_Yes</th>\n",
       "      <th>Sex_Female</th>\n",
       "      <th>Sex_Male</th>\n",
       "      <th>Age_18-24</th>\n",
       "      <th>Age_25-29</th>\n",
       "      <th>Age_30-34</th>\n",
       "      <th>...</th>\n",
       "      <th>Diabetic_Yes</th>\n",
       "      <th>Diabetic_Yes (during pregnancy)</th>\n",
       "      <th>Asthma_No</th>\n",
       "      <th>Asthma_Yes</th>\n",
       "      <th>Stroke_No</th>\n",
       "      <th>Stroke_Yes</th>\n",
       "      <th>KidneyDisease_No</th>\n",
       "      <th>KidneyDisease_Yes</th>\n",
       "      <th>SkinCancer_No</th>\n",
       "      <th>SkinCancer_Yes</th>\n",
       "    </tr>\n",
       "  </thead>\n",
       "  <tbody>\n",
       "    <tr>\n",
       "      <th>0</th>\n",
       "      <td>-0.969956</td>\n",
       "      <td>-0.588277</td>\n",
       "      <td>-0.630371</td>\n",
       "      <td>0</td>\n",
       "      <td>1</td>\n",
       "      <td>1</td>\n",
       "      <td>0</td>\n",
       "      <td>0</td>\n",
       "      <td>0</td>\n",
       "      <td>0</td>\n",
       "      <td>...</td>\n",
       "      <td>0</td>\n",
       "      <td>0</td>\n",
       "      <td>1</td>\n",
       "      <td>0</td>\n",
       "      <td>0</td>\n",
       "      <td>1</td>\n",
       "      <td>1</td>\n",
       "      <td>0</td>\n",
       "      <td>1</td>\n",
       "      <td>0</td>\n",
       "    </tr>\n",
       "    <tr>\n",
       "      <th>1</th>\n",
       "      <td>0.301532</td>\n",
       "      <td>0.714173</td>\n",
       "      <td>-0.446526</td>\n",
       "      <td>0</td>\n",
       "      <td>1</td>\n",
       "      <td>0</td>\n",
       "      <td>1</td>\n",
       "      <td>0</td>\n",
       "      <td>0</td>\n",
       "      <td>0</td>\n",
       "      <td>...</td>\n",
       "      <td>1</td>\n",
       "      <td>0</td>\n",
       "      <td>1</td>\n",
       "      <td>0</td>\n",
       "      <td>1</td>\n",
       "      <td>0</td>\n",
       "      <td>1</td>\n",
       "      <td>0</td>\n",
       "      <td>1</td>\n",
       "      <td>0</td>\n",
       "    </tr>\n",
       "    <tr>\n",
       "      <th>2</th>\n",
       "      <td>0.417379</td>\n",
       "      <td>0.062948</td>\n",
       "      <td>-0.354604</td>\n",
       "      <td>0</td>\n",
       "      <td>1</td>\n",
       "      <td>0</td>\n",
       "      <td>1</td>\n",
       "      <td>0</td>\n",
       "      <td>0</td>\n",
       "      <td>0</td>\n",
       "      <td>...</td>\n",
       "      <td>1</td>\n",
       "      <td>0</td>\n",
       "      <td>1</td>\n",
       "      <td>0</td>\n",
       "      <td>1</td>\n",
       "      <td>0</td>\n",
       "      <td>1</td>\n",
       "      <td>0</td>\n",
       "      <td>0</td>\n",
       "      <td>1</td>\n",
       "    </tr>\n",
       "    <tr>\n",
       "      <th>3</th>\n",
       "      <td>-0.851284</td>\n",
       "      <td>-0.588277</td>\n",
       "      <td>-0.630371</td>\n",
       "      <td>1</td>\n",
       "      <td>0</td>\n",
       "      <td>1</td>\n",
       "      <td>0</td>\n",
       "      <td>0</td>\n",
       "      <td>0</td>\n",
       "      <td>0</td>\n",
       "      <td>...</td>\n",
       "      <td>0</td>\n",
       "      <td>0</td>\n",
       "      <td>1</td>\n",
       "      <td>0</td>\n",
       "      <td>1</td>\n",
       "      <td>0</td>\n",
       "      <td>1</td>\n",
       "      <td>0</td>\n",
       "      <td>1</td>\n",
       "      <td>0</td>\n",
       "    </tr>\n",
       "  </tbody>\n",
       "</table>\n",
       "<p>4 rows × 45 columns</p>\n",
       "</div>"
      ],
      "text/plain": [
       "   BodyMassIndex  SleepingHours  DaysSickLastMonth  HeartDisease_No  \\\n",
       "0      -0.969956      -0.588277          -0.630371                0   \n",
       "1       0.301532       0.714173          -0.446526                0   \n",
       "2       0.417379       0.062948          -0.354604                0   \n",
       "3      -0.851284      -0.588277          -0.630371                1   \n",
       "\n",
       "   HeartDisease_Yes  Sex_Female  Sex_Male  Age_18-24  Age_25-29  Age_30-34  \\\n",
       "0                 1           1         0          0          0          0   \n",
       "1                 1           0         1          0          0          0   \n",
       "2                 1           0         1          0          0          0   \n",
       "3                 0           1         0          0          0          0   \n",
       "\n",
       "   ...  Diabetic_Yes  Diabetic_Yes (during pregnancy)  Asthma_No  Asthma_Yes  \\\n",
       "0  ...             0                                0          1           0   \n",
       "1  ...             1                                0          1           0   \n",
       "2  ...             1                                0          1           0   \n",
       "3  ...             0                                0          1           0   \n",
       "\n",
       "   Stroke_No  Stroke_Yes  KidneyDisease_No  KidneyDisease_Yes  SkinCancer_No  \\\n",
       "0          0           1                 1                  0              1   \n",
       "1          1           0                 1                  0              1   \n",
       "2          1           0                 1                  0              0   \n",
       "3          1           0                 1                  0              1   \n",
       "\n",
       "   SkinCancer_Yes  \n",
       "0               0  \n",
       "1               0  \n",
       "2               1  \n",
       "3               0  \n",
       "\n",
       "[4 rows x 45 columns]"
      ]
     },
     "execution_count": 35,
     "metadata": {},
     "output_type": "execute_result"
    }
   ],
   "source": [
    "tf4.head(4)"
   ]
  },
  {
   "cell_type": "markdown",
   "id": "c4f77229",
   "metadata": {},
   "source": [
    "# Checking null value"
   ]
  },
  {
   "cell_type": "code",
   "execution_count": 36,
   "id": "d8576858",
   "metadata": {
    "scrolled": false
   },
   "outputs": [
    {
     "data": {
      "text/plain": [
       "BodyMassIndex                       0\n",
       "SleepingHours                       0\n",
       "DaysSickLastMonth                   0\n",
       "HeartDisease_No                     0\n",
       "HeartDisease_Yes                    0\n",
       "Sex_Female                          0\n",
       "Sex_Male                            0\n",
       "Age_18-24                           0\n",
       "Age_25-29                           0\n",
       "Age_30-34                           0\n",
       "Age_35-39                           0\n",
       "Age_40-44                           0\n",
       "Age_45-49                           0\n",
       "Age_50-54                           0\n",
       "Age_55-59                           0\n",
       "Age_60-64                           0\n",
       "Age_65-69                           0\n",
       "Age_70-74                           0\n",
       "Age_75-79                           0\n",
       "Age_80 or older                     0\n",
       "Smoking_No                          0\n",
       "Smoking_Yes                         0\n",
       "AlcoholDrinking_No                  0\n",
       "AlcoholDrinking_Yes                 0\n",
       "GeneticHealth_Excellent             0\n",
       "GeneticHealth_Fair                  0\n",
       "GeneticHealth_Good                  0\n",
       "GeneticHealth_Poor                  0\n",
       "GeneticHealth_Very good             0\n",
       "DifficultiesWalking_No              0\n",
       "DifficultiesWalking_Yes             0\n",
       "PhysicalActivity_No                 0\n",
       "PhysicalActivity_Yes                0\n",
       "Diabetic_No                         0\n",
       "Diabetic_No, borderline diabetes    0\n",
       "Diabetic_Yes                        0\n",
       "Diabetic_Yes (during pregnancy)     0\n",
       "Asthma_No                           0\n",
       "Asthma_Yes                          0\n",
       "Stroke_No                           0\n",
       "Stroke_Yes                          0\n",
       "KidneyDisease_No                    0\n",
       "KidneyDisease_Yes                   0\n",
       "SkinCancer_No                       0\n",
       "SkinCancer_Yes                      0\n",
       "dtype: int64"
      ]
     },
     "execution_count": 36,
     "metadata": {},
     "output_type": "execute_result"
    }
   ],
   "source": [
    "df4.isnull().sum()"
   ]
  },
  {
   "cell_type": "code",
   "execution_count": 37,
   "id": "e915aadc",
   "metadata": {},
   "outputs": [
    {
     "data": {
      "text/plain": [
       "BodyMassIndex                       0\n",
       "SleepingHours                       0\n",
       "DaysSickLastMonth                   0\n",
       "HeartDisease_No                     0\n",
       "HeartDisease_Yes                    0\n",
       "Sex_Female                          0\n",
       "Sex_Male                            0\n",
       "Age_18-24                           0\n",
       "Age_25-29                           0\n",
       "Age_30-34                           0\n",
       "Age_35-39                           0\n",
       "Age_40-44                           0\n",
       "Age_45-49                           0\n",
       "Age_50-54                           0\n",
       "Age_55-59                           0\n",
       "Age_60-64                           0\n",
       "Age_65-69                           0\n",
       "Age_70-74                           0\n",
       "Age_75-79                           0\n",
       "Age_80 or older                     0\n",
       "Smoking_No                          0\n",
       "Smoking_Yes                         0\n",
       "AlcoholDrinking_No                  0\n",
       "AlcoholDrinking_Yes                 0\n",
       "GeneticHealth_Excellent             0\n",
       "GeneticHealth_Fair                  0\n",
       "GeneticHealth_Good                  0\n",
       "GeneticHealth_Poor                  0\n",
       "GeneticHealth_Very good             0\n",
       "DifficultiesWalking_No              0\n",
       "DifficultiesWalking_Yes             0\n",
       "PhysicalActivity_No                 0\n",
       "PhysicalActivity_Yes                0\n",
       "Diabetic_No                         0\n",
       "Diabetic_No, borderline diabetes    0\n",
       "Diabetic_Yes                        0\n",
       "Diabetic_Yes (during pregnancy)     0\n",
       "Asthma_No                           0\n",
       "Asthma_Yes                          0\n",
       "Stroke_No                           0\n",
       "Stroke_Yes                          0\n",
       "KidneyDisease_No                    0\n",
       "KidneyDisease_Yes                   0\n",
       "SkinCancer_No                       0\n",
       "SkinCancer_Yes                      0\n",
       "dtype: int64"
      ]
     },
     "execution_count": 37,
     "metadata": {},
     "output_type": "execute_result"
    }
   ],
   "source": [
    "tf4.head(4)"
   ]
  },
  {
   "cell_type": "markdown",
   "id": "d1e874f5",
   "metadata": {},
   "source": [
    "# Separating Dependent variable and independent variable"
   ]
  },
  {
   "cell_type": "code",
   "execution_count": 81,
   "id": "a91419af",
   "metadata": {},
   "outputs": [],
   "source": [
    "y_train = df4[['HeartDisease_No', 'HeartDisease_Yes']]\n",
    "X_train = df4.drop(['HeartDisease_No', 'HeartDisease_Yes'],axis=1)\n",
    "y_test = tf4[['HeartDisease_No', 'HeartDisease_Yes']]\n",
    "X_test = tf4.drop(['HeartDisease_No', 'HeartDisease_Yes'],axis=1)"
   ]
  },
  {
   "cell_type": "markdown",
   "id": "1d6bbaae",
   "metadata": {},
   "source": [
    "# Drop last column from independent(X)\n",
    "* # for avoinding dummy variable trap\n"
   ]
  },
  {
   "cell_type": "code",
   "execution_count": 82,
   "id": "31b719c0",
   "metadata": {},
   "outputs": [
    {
     "name": "stdout",
     "output_type": "stream",
     "text": [
      "(10247, 43)\n",
      "(10247, 2)\n",
      "(569, 43)\n",
      "(10247, 2)\n"
     ]
    }
   ],
   "source": [
    "print(X_train.shape)\n",
    "print(y_train.shape)\n",
    "print(X_test.shape)\n",
    "print(y_train.shape)"
   ]
  },
  {
   "cell_type": "code",
   "execution_count": 83,
   "id": "0860df87",
   "metadata": {},
   "outputs": [],
   "source": [
    "X_train = X_train.drop('SkinCancer_Yes',axis=1)\n",
    "X_test = X_test.drop('SkinCancer_Yes',axis=1)"
   ]
  },
  {
   "cell_type": "code",
   "execution_count": 84,
   "id": "5a7539de",
   "metadata": {},
   "outputs": [
    {
     "name": "stdout",
     "output_type": "stream",
     "text": [
      "(10247, 42)\n",
      "(10247, 2)\n",
      "(569, 42)\n",
      "(10247, 2)\n"
     ]
    }
   ],
   "source": [
    "print(X_train.shape)\n",
    "print(y_train.shape)\n",
    "print(X_test.shape)\n",
    "print(y_train.shape)"
   ]
  },
  {
   "cell_type": "markdown",
   "id": "8491d3fe",
   "metadata": {},
   "source": [
    "# Also Drop one column from dependent(y) as it has only two columns\n",
    "\n",
    "* ## for avoiding dummy variable trap, it's necessary to drop"
   ]
  },
  {
   "cell_type": "code",
   "execution_count": 85,
   "id": "69790aca",
   "metadata": {},
   "outputs": [],
   "source": [
    "y_train = y_train['HeartDisease_No']\n",
    "y_test = y_test['HeartDisease_No']"
   ]
  },
  {
   "cell_type": "code",
   "execution_count": 86,
   "id": "aeac935b",
   "metadata": {},
   "outputs": [
    {
     "name": "stdout",
     "output_type": "stream",
     "text": [
      "(10247, 42)\n",
      "(10247,)\n",
      "(569, 42)\n",
      "(10247,)\n"
     ]
    }
   ],
   "source": [
    "print(X_train.shape)\n",
    "print(y_train.shape)\n",
    "print(X_test.shape)\n",
    "print(y_train.shape)"
   ]
  },
  {
   "cell_type": "markdown",
   "id": "8d193bcf",
   "metadata": {},
   "source": [
    "# Creating KNN model"
   ]
  },
  {
   "cell_type": "code",
   "execution_count": 87,
   "id": "0d5f1c68",
   "metadata": {},
   "outputs": [
    {
     "data": {
      "text/html": [
       "<style>#sk-container-id-3 {color: black;background-color: white;}#sk-container-id-3 pre{padding: 0;}#sk-container-id-3 div.sk-toggleable {background-color: white;}#sk-container-id-3 label.sk-toggleable__label {cursor: pointer;display: block;width: 100%;margin-bottom: 0;padding: 0.3em;box-sizing: border-box;text-align: center;}#sk-container-id-3 label.sk-toggleable__label-arrow:before {content: \"▸\";float: left;margin-right: 0.25em;color: #696969;}#sk-container-id-3 label.sk-toggleable__label-arrow:hover:before {color: black;}#sk-container-id-3 div.sk-estimator:hover label.sk-toggleable__label-arrow:before {color: black;}#sk-container-id-3 div.sk-toggleable__content {max-height: 0;max-width: 0;overflow: hidden;text-align: left;background-color: #f0f8ff;}#sk-container-id-3 div.sk-toggleable__content pre {margin: 0.2em;color: black;border-radius: 0.25em;background-color: #f0f8ff;}#sk-container-id-3 input.sk-toggleable__control:checked~div.sk-toggleable__content {max-height: 200px;max-width: 100%;overflow: auto;}#sk-container-id-3 input.sk-toggleable__control:checked~label.sk-toggleable__label-arrow:before {content: \"▾\";}#sk-container-id-3 div.sk-estimator input.sk-toggleable__control:checked~label.sk-toggleable__label {background-color: #d4ebff;}#sk-container-id-3 div.sk-label input.sk-toggleable__control:checked~label.sk-toggleable__label {background-color: #d4ebff;}#sk-container-id-3 input.sk-hidden--visually {border: 0;clip: rect(1px 1px 1px 1px);clip: rect(1px, 1px, 1px, 1px);height: 1px;margin: -1px;overflow: hidden;padding: 0;position: absolute;width: 1px;}#sk-container-id-3 div.sk-estimator {font-family: monospace;background-color: #f0f8ff;border: 1px dotted black;border-radius: 0.25em;box-sizing: border-box;margin-bottom: 0.5em;}#sk-container-id-3 div.sk-estimator:hover {background-color: #d4ebff;}#sk-container-id-3 div.sk-parallel-item::after {content: \"\";width: 100%;border-bottom: 1px solid gray;flex-grow: 1;}#sk-container-id-3 div.sk-label:hover label.sk-toggleable__label {background-color: #d4ebff;}#sk-container-id-3 div.sk-serial::before {content: \"\";position: absolute;border-left: 1px solid gray;box-sizing: border-box;top: 0;bottom: 0;left: 50%;z-index: 0;}#sk-container-id-3 div.sk-serial {display: flex;flex-direction: column;align-items: center;background-color: white;padding-right: 0.2em;padding-left: 0.2em;position: relative;}#sk-container-id-3 div.sk-item {position: relative;z-index: 1;}#sk-container-id-3 div.sk-parallel {display: flex;align-items: stretch;justify-content: center;background-color: white;position: relative;}#sk-container-id-3 div.sk-item::before, #sk-container-id-3 div.sk-parallel-item::before {content: \"\";position: absolute;border-left: 1px solid gray;box-sizing: border-box;top: 0;bottom: 0;left: 50%;z-index: -1;}#sk-container-id-3 div.sk-parallel-item {display: flex;flex-direction: column;z-index: 1;position: relative;background-color: white;}#sk-container-id-3 div.sk-parallel-item:first-child::after {align-self: flex-end;width: 50%;}#sk-container-id-3 div.sk-parallel-item:last-child::after {align-self: flex-start;width: 50%;}#sk-container-id-3 div.sk-parallel-item:only-child::after {width: 0;}#sk-container-id-3 div.sk-dashed-wrapped {border: 1px dashed gray;margin: 0 0.4em 0.5em 0.4em;box-sizing: border-box;padding-bottom: 0.4em;background-color: white;}#sk-container-id-3 div.sk-label label {font-family: monospace;font-weight: bold;display: inline-block;line-height: 1.2em;}#sk-container-id-3 div.sk-label-container {text-align: center;}#sk-container-id-3 div.sk-container {/* jupyter's `normalize.less` sets `[hidden] { display: none; }` but bootstrap.min.css set `[hidden] { display: none !important; }` so we also need the `!important` here to be able to override the default hidden behavior on the sphinx rendered scikit-learn.org. See: https://github.com/scikit-learn/scikit-learn/issues/21755 */display: inline-block !important;position: relative;}#sk-container-id-3 div.sk-text-repr-fallback {display: none;}</style><div id=\"sk-container-id-3\" class=\"sk-top-container\"><div class=\"sk-text-repr-fallback\"><pre>KNeighborsClassifier(n_neighbors=10)</pre><b>In a Jupyter environment, please rerun this cell to show the HTML representation or trust the notebook. <br />On GitHub, the HTML representation is unable to render, please try loading this page with nbviewer.org.</b></div><div class=\"sk-container\" hidden><div class=\"sk-item\"><div class=\"sk-estimator sk-toggleable\"><input class=\"sk-toggleable__control sk-hidden--visually\" id=\"sk-estimator-id-3\" type=\"checkbox\" checked><label for=\"sk-estimator-id-3\" class=\"sk-toggleable__label sk-toggleable__label-arrow\">KNeighborsClassifier</label><div class=\"sk-toggleable__content\"><pre>KNeighborsClassifier(n_neighbors=10)</pre></div></div></div></div></div>"
      ],
      "text/plain": [
       "KNeighborsClassifier(n_neighbors=10)"
      ]
     },
     "execution_count": 87,
     "metadata": {},
     "output_type": "execute_result"
    }
   ],
   "source": [
    "classifier = KNeighborsClassifier(n_neighbors=10)\n",
    "classifier.fit(X_train,y_train)"
   ]
  },
  {
   "cell_type": "code",
   "execution_count": 88,
   "id": "aaaf1ed3",
   "metadata": {},
   "outputs": [],
   "source": [
    "y_pred = classifier.predict(X_test)"
   ]
  },
  {
   "cell_type": "code",
   "execution_count": 89,
   "id": "2e31744c",
   "metadata": {
    "scrolled": true
   },
   "outputs": [
    {
     "data": {
      "text/plain": [
       "(569,)"
      ]
     },
     "execution_count": 89,
     "metadata": {},
     "output_type": "execute_result"
    }
   ],
   "source": [
    "y_pred.shape"
   ]
  },
  {
   "cell_type": "code",
   "execution_count": 90,
   "id": "788082a5",
   "metadata": {},
   "outputs": [],
   "source": [
    "y_pred = pd.DataFrame(y_pred, columns = ['HeartDisease_No'])"
   ]
  },
  {
   "cell_type": "code",
   "execution_count": 91,
   "id": "b29aa5f0",
   "metadata": {
    "scrolled": true
   },
   "outputs": [
    {
     "data": {
      "text/html": [
       "<div>\n",
       "<style scoped>\n",
       "    .dataframe tbody tr th:only-of-type {\n",
       "        vertical-align: middle;\n",
       "    }\n",
       "\n",
       "    .dataframe tbody tr th {\n",
       "        vertical-align: top;\n",
       "    }\n",
       "\n",
       "    .dataframe thead th {\n",
       "        text-align: right;\n",
       "    }\n",
       "</style>\n",
       "<table border=\"1\" class=\"dataframe\">\n",
       "  <thead>\n",
       "    <tr style=\"text-align: right;\">\n",
       "      <th></th>\n",
       "      <th>HeartDisease_No</th>\n",
       "    </tr>\n",
       "  </thead>\n",
       "  <tbody>\n",
       "    <tr>\n",
       "      <th>0</th>\n",
       "      <td>0</td>\n",
       "    </tr>\n",
       "    <tr>\n",
       "      <th>1</th>\n",
       "      <td>0</td>\n",
       "    </tr>\n",
       "    <tr>\n",
       "      <th>2</th>\n",
       "      <td>0</td>\n",
       "    </tr>\n",
       "    <tr>\n",
       "      <th>3</th>\n",
       "      <td>1</td>\n",
       "    </tr>\n",
       "    <tr>\n",
       "      <th>4</th>\n",
       "      <td>0</td>\n",
       "    </tr>\n",
       "    <tr>\n",
       "      <th>5</th>\n",
       "      <td>0</td>\n",
       "    </tr>\n",
       "    <tr>\n",
       "      <th>6</th>\n",
       "      <td>0</td>\n",
       "    </tr>\n",
       "    <tr>\n",
       "      <th>7</th>\n",
       "      <td>0</td>\n",
       "    </tr>\n",
       "    <tr>\n",
       "      <th>8</th>\n",
       "      <td>0</td>\n",
       "    </tr>\n",
       "    <tr>\n",
       "      <th>9</th>\n",
       "      <td>0</td>\n",
       "    </tr>\n",
       "  </tbody>\n",
       "</table>\n",
       "</div>"
      ],
      "text/plain": [
       "   HeartDisease_No\n",
       "0                0\n",
       "1                0\n",
       "2                0\n",
       "3                1\n",
       "4                0\n",
       "5                0\n",
       "6                0\n",
       "7                0\n",
       "8                0\n",
       "9                0"
      ]
     },
     "execution_count": 91,
     "metadata": {},
     "output_type": "execute_result"
    }
   ],
   "source": [
    "y_pred.head(10)"
   ]
  },
  {
   "cell_type": "code",
   "execution_count": 92,
   "id": "a2f8ebf7",
   "metadata": {},
   "outputs": [
    {
     "data": {
      "text/plain": [
       "0    0\n",
       "1    0\n",
       "2    0\n",
       "3    1\n",
       "4    1\n",
       "5    0\n",
       "6    0\n",
       "7    0\n",
       "8    0\n",
       "9    1\n",
       "Name: HeartDisease_No, dtype: uint8"
      ]
     },
     "execution_count": 92,
     "metadata": {},
     "output_type": "execute_result"
    }
   ],
   "source": [
    "y_test.head(10)"
   ]
  },
  {
   "cell_type": "markdown",
   "id": "7bfd9747",
   "metadata": {},
   "source": [
    "# Calculating Confusion Matrix Result"
   ]
  },
  {
   "cell_type": "code",
   "execution_count": 93,
   "id": "8af2bb1b",
   "metadata": {
    "scrolled": false
   },
   "outputs": [
    {
     "data": {
      "text/plain": [
       "array([[300,  62],\n",
       "       [ 60, 147]])"
      ]
     },
     "execution_count": 93,
     "metadata": {},
     "output_type": "execute_result"
    }
   ],
   "source": [
    "confusion_matrix(y_test, y_pred)"
   ]
  },
  {
   "cell_type": "code",
   "execution_count": 94,
   "id": "44a240c9",
   "metadata": {
    "scrolled": true
   },
   "outputs": [
    {
     "name": "stderr",
     "output_type": "stream",
     "text": [
      "/home/sahil/anaconda3/lib/python3.9/site-packages/sklearn/utils/deprecation.py:87: FutureWarning: Function plot_confusion_matrix is deprecated; Function `plot_confusion_matrix` is deprecated in 1.0 and will be removed in 1.2. Use one of the class methods: ConfusionMatrixDisplay.from_predictions or ConfusionMatrixDisplay.from_estimator.\n",
      "  warnings.warn(msg, category=FutureWarning)\n"
     ]
    },
    {
     "data": {
      "image/png": "[encoded data removed]",
      "text/plain": [
       "<Figure size 432x288 with 2 Axes>"
      ]
     },
     "metadata": {
      "needs_background": "light"
     },
     "output_type": "display_data"
    }
   ],
   "source": [
    "plot_confusion_matrix(classifier, X_test, y_test)\n",
    "plt.grid(False)"
   ]
  },
  {
   "cell_type": "markdown",
   "id": "223d8781",
   "metadata": {},
   "source": [
    "# Accuracy"
   ]
  },
  {
   "cell_type": "code",
   "execution_count": 95,
   "id": "65c20802",
   "metadata": {
    "scrolled": true
   },
   "outputs": [
    {
     "name": "stdout",
     "output_type": "stream",
     "text": [
      "Accuracy of KNN =  0.7855887521968365\n"
     ]
    }
   ],
   "source": [
    "accuracy_KNN= accuracy_score(y_test, y_pred)\n",
    "print(\"Accuracy of KNN = \", accuracy_KNN)"
   ]
  },
  {
   "cell_type": "markdown",
   "id": "6dc92473",
   "metadata": {},
   "source": [
    "# Creating Decision Tree Classifier"
   ]
  },
  {
   "cell_type": "code",
   "execution_count": 96,
   "id": "fd4865bf",
   "metadata": {},
   "outputs": [],
   "source": [
    "model = tree.DecisionTreeClassifier()\n",
    "model = model.fit(X_train, y_train)"
   ]
  },
  {
   "cell_type": "code",
   "execution_count": 97,
   "id": "130f505c",
   "metadata": {},
   "outputs": [],
   "source": [
    "y_pred_DT = model.predict(X_test)"
   ]
  },
  {
   "cell_type": "code",
   "execution_count": 98,
   "id": "c9282e70",
   "metadata": {},
   "outputs": [
    {
     "data": {
      "text/plain": [
       "(569,)"
      ]
     },
     "execution_count": 98,
     "metadata": {},
     "output_type": "execute_result"
    }
   ],
   "source": [
    "y_pred_DT.shape"
   ]
  },
  {
   "cell_type": "code",
   "execution_count": 99,
   "id": "720b99ec",
   "metadata": {},
   "outputs": [],
   "source": [
    "y_pred_DT = pd.DataFrame(y_pred_DT, columns = ['HeartDisease_No'])"
   ]
  },
  {
   "cell_type": "code",
   "execution_count": 100,
   "id": "2cea9f4c",
   "metadata": {},
   "outputs": [
    {
     "data": {
      "text/html": [
       "<div>\n",
       "<style scoped>\n",
       "    .dataframe tbody tr th:only-of-type {\n",
       "        vertical-align: middle;\n",
       "    }\n",
       "\n",
       "    .dataframe tbody tr th {\n",
       "        vertical-align: top;\n",
       "    }\n",
       "\n",
       "    .dataframe thead th {\n",
       "        text-align: right;\n",
       "    }\n",
       "</style>\n",
       "<table border=\"1\" class=\"dataframe\">\n",
       "  <thead>\n",
       "    <tr style=\"text-align: right;\">\n",
       "      <th></th>\n",
       "      <th>HeartDisease_No</th>\n",
       "    </tr>\n",
       "  </thead>\n",
       "  <tbody>\n",
       "    <tr>\n",
       "      <th>0</th>\n",
       "      <td>0</td>\n",
       "    </tr>\n",
       "    <tr>\n",
       "      <th>1</th>\n",
       "      <td>0</td>\n",
       "    </tr>\n",
       "    <tr>\n",
       "      <th>2</th>\n",
       "      <td>0</td>\n",
       "    </tr>\n",
       "    <tr>\n",
       "      <th>3</th>\n",
       "      <td>0</td>\n",
       "    </tr>\n",
       "    <tr>\n",
       "      <th>4</th>\n",
       "      <td>1</td>\n",
       "    </tr>\n",
       "    <tr>\n",
       "      <th>5</th>\n",
       "      <td>0</td>\n",
       "    </tr>\n",
       "    <tr>\n",
       "      <th>6</th>\n",
       "      <td>1</td>\n",
       "    </tr>\n",
       "    <tr>\n",
       "      <th>7</th>\n",
       "      <td>1</td>\n",
       "    </tr>\n",
       "    <tr>\n",
       "      <th>8</th>\n",
       "      <td>1</td>\n",
       "    </tr>\n",
       "    <tr>\n",
       "      <th>9</th>\n",
       "      <td>1</td>\n",
       "    </tr>\n",
       "  </tbody>\n",
       "</table>\n",
       "</div>"
      ],
      "text/plain": [
       "   HeartDisease_No\n",
       "0                0\n",
       "1                0\n",
       "2                0\n",
       "3                0\n",
       "4                1\n",
       "5                0\n",
       "6                1\n",
       "7                1\n",
       "8                1\n",
       "9                1"
      ]
     },
     "execution_count": 100,
     "metadata": {},
     "output_type": "execute_result"
    }
   ],
   "source": [
    "y_pred_DT.head(10)"
   ]
  },
  {
   "cell_type": "markdown",
   "id": "fb2e26e3",
   "metadata": {},
   "source": [
    "# Confusion Matrix"
   ]
  },
  {
   "cell_type": "code",
   "execution_count": 101,
   "id": "be9058b1",
   "metadata": {
    "scrolled": true
   },
   "outputs": [
    {
     "data": {
      "text/plain": [
       "array([[250, 112],\n",
       "       [ 71, 136]])"
      ]
     },
     "execution_count": 101,
     "metadata": {},
     "output_type": "execute_result"
    }
   ],
   "source": [
    "confusion_matrix(y_test, y_pred_DT)"
   ]
  },
  {
   "cell_type": "code",
   "execution_count": 102,
   "id": "37d124c8",
   "metadata": {
    "scrolled": true
   },
   "outputs": [
    {
     "name": "stderr",
     "output_type": "stream",
     "text": [
      "/home/sahil/anaconda3/lib/python3.9/site-packages/sklearn/utils/deprecation.py:87: FutureWarning: Function plot_confusion_matrix is deprecated; Function `plot_confusion_matrix` is deprecated in 1.0 and will be removed in 1.2. Use one of the class methods: ConfusionMatrixDisplay.from_predictions or ConfusionMatrixDisplay.from_estimator.\n",
      "  warnings.warn(msg, category=FutureWarning)\n"
     ]
    },
    {
     "data": {
      "image/png": "[encoded data removed]",
      "text/plain": [
       "<Figure size 432x288 with 2 Axes>"
      ]
     },
     "metadata": {
      "needs_background": "light"
     },
     "output_type": "display_data"
    }
   ],
   "source": [
    "plot_confusion_matrix(model, X_test, y_test)\n",
    "plt.grid(False)"
   ]
  },
  {
   "cell_type": "markdown",
   "id": "978183dc",
   "metadata": {},
   "source": [
    "# Accuracy"
   ]
  },
  {
   "cell_type": "code",
   "execution_count": 103,
   "id": "85d18bdc",
   "metadata": {
    "scrolled": true
   },
   "outputs": [
    {
     "name": "stdout",
     "output_type": "stream",
     "text": [
      "Accuracy of Decision Tree Regression =  0.6783831282952548\n"
     ]
    }
   ],
   "source": [
    "accuracy_DT= accuracy_score(y_test, y_pred_DT)\n",
    "print(\"Accuracy of Decision Tree Regression = \", accuracy_DT)"
   ]
  },
  {
   "cell_type": "markdown",
   "id": "9c6023d3",
   "metadata": {},
   "source": [
    "# Creating Logistic Regression "
   ]
  },
  {
   "cell_type": "code",
   "execution_count": 104,
   "id": "77b2f954",
   "metadata": {
    "scrolled": true
   },
   "outputs": [
    {
     "name": "stderr",
     "output_type": "stream",
     "text": [
      "/home/sahil/anaconda3/lib/python3.9/site-packages/sklearn/linear_model/_logistic.py:444: ConvergenceWarning: lbfgs failed to converge (status=1):\n",
      "STOP: TOTAL NO. of ITERATIONS REACHED LIMIT.\n",
      "\n",
      "Increase the number of iterations (max_iter) or scale the data as shown in:\n",
      "    https://scikit-learn.org/stable/modules/preprocessing.html\n",
      "Please also refer to the documentation for alternative solver options:\n",
      "    https://scikit-learn.org/stable/modules/linear_model.html#logistic-regression\n",
      "  n_iter_i = _check_optimize_result(\n"
     ]
    },
    {
     "data": {
      "text/html": [
       "<style>#sk-container-id-4 {color: black;background-color: white;}#sk-container-id-4 pre{padding: 0;}#sk-container-id-4 div.sk-toggleable {background-color: white;}#sk-container-id-4 label.sk-toggleable__label {cursor: pointer;display: block;width: 100%;margin-bottom: 0;padding: 0.3em;box-sizing: border-box;text-align: center;}#sk-container-id-4 label.sk-toggleable__label-arrow:before {content: \"▸\";float: left;margin-right: 0.25em;color: #696969;}#sk-container-id-4 label.sk-toggleable__label-arrow:hover:before {color: black;}#sk-container-id-4 div.sk-estimator:hover label.sk-toggleable__label-arrow:before {color: black;}#sk-container-id-4 div.sk-toggleable__content {max-height: 0;max-width: 0;overflow: hidden;text-align: left;background-color: #f0f8ff;}#sk-container-id-4 div.sk-toggleable__content pre {margin: 0.2em;color: black;border-radius: 0.25em;background-color: #f0f8ff;}#sk-container-id-4 input.sk-toggleable__control:checked~div.sk-toggleable__content {max-height: 200px;max-width: 100%;overflow: auto;}#sk-container-id-4 input.sk-toggleable__control:checked~label.sk-toggleable__label-arrow:before {content: \"▾\";}#sk-container-id-4 div.sk-estimator input.sk-toggleable__control:checked~label.sk-toggleable__label {background-color: #d4ebff;}#sk-container-id-4 div.sk-label input.sk-toggleable__control:checked~label.sk-toggleable__label {background-color: #d4ebff;}#sk-container-id-4 input.sk-hidden--visually {border: 0;clip: rect(1px 1px 1px 1px);clip: rect(1px, 1px, 1px, 1px);height: 1px;margin: -1px;overflow: hidden;padding: 0;position: absolute;width: 1px;}#sk-container-id-4 div.sk-estimator {font-family: monospace;background-color: #f0f8ff;border: 1px dotted black;border-radius: 0.25em;box-sizing: border-box;margin-bottom: 0.5em;}#sk-container-id-4 div.sk-estimator:hover {background-color: #d4ebff;}#sk-container-id-4 div.sk-parallel-item::after {content: \"\";width: 100%;border-bottom: 1px solid gray;flex-grow: 1;}#sk-container-id-4 div.sk-label:hover label.sk-toggleable__label {background-color: #d4ebff;}#sk-container-id-4 div.sk-serial::before {content: \"\";position: absolute;border-left: 1px solid gray;box-sizing: border-box;top: 0;bottom: 0;left: 50%;z-index: 0;}#sk-container-id-4 div.sk-serial {display: flex;flex-direction: column;align-items: center;background-color: white;padding-right: 0.2em;padding-left: 0.2em;position: relative;}#sk-container-id-4 div.sk-item {position: relative;z-index: 1;}#sk-container-id-4 div.sk-parallel {display: flex;align-items: stretch;justify-content: center;background-color: white;position: relative;}#sk-container-id-4 div.sk-item::before, #sk-container-id-4 div.sk-parallel-item::before {content: \"\";position: absolute;border-left: 1px solid gray;box-sizing: border-box;top: 0;bottom: 0;left: 50%;z-index: -1;}#sk-container-id-4 div.sk-parallel-item {display: flex;flex-direction: column;z-index: 1;position: relative;background-color: white;}#sk-container-id-4 div.sk-parallel-item:first-child::after {align-self: flex-end;width: 50%;}#sk-container-id-4 div.sk-parallel-item:last-child::after {align-self: flex-start;width: 50%;}#sk-container-id-4 div.sk-parallel-item:only-child::after {width: 0;}#sk-container-id-4 div.sk-dashed-wrapped {border: 1px dashed gray;margin: 0 0.4em 0.5em 0.4em;box-sizing: border-box;padding-bottom: 0.4em;background-color: white;}#sk-container-id-4 div.sk-label label {font-family: monospace;font-weight: bold;display: inline-block;line-height: 1.2em;}#sk-container-id-4 div.sk-label-container {text-align: center;}#sk-container-id-4 div.sk-container {/* jupyter's `normalize.less` sets `[hidden] { display: none; }` but bootstrap.min.css set `[hidden] { display: none !important; }` so we also need the `!important` here to be able to override the default hidden behavior on the sphinx rendered scikit-learn.org. See: https://github.com/scikit-learn/scikit-learn/issues/21755 */display: inline-block !important;position: relative;}#sk-container-id-4 div.sk-text-repr-fallback {display: none;}</style><div id=\"sk-container-id-4\" class=\"sk-top-container\"><div class=\"sk-text-repr-fallback\"><pre>LogisticRegression()</pre><b>In a Jupyter environment, please rerun this cell to show the HTML representation or trust the notebook. <br />On GitHub, the HTML representation is unable to render, please try loading this page with nbviewer.org.</b></div><div class=\"sk-container\" hidden><div class=\"sk-item\"><div class=\"sk-estimator sk-toggleable\"><input class=\"sk-toggleable__control sk-hidden--visually\" id=\"sk-estimator-id-4\" type=\"checkbox\" checked><label for=\"sk-estimator-id-4\" class=\"sk-toggleable__label sk-toggleable__label-arrow\">LogisticRegression</label><div class=\"sk-toggleable__content\"><pre>LogisticRegression()</pre></div></div></div></div></div>"
      ],
      "text/plain": [
       "LogisticRegression()"
      ]
     },
     "execution_count": 104,
     "metadata": {},
     "output_type": "execute_result"
    }
   ],
   "source": [
    "Log_reg = LogisticRegression()\n",
    "Log_reg.fit(X_train, y_train)"
   ]
  },
  {
   "cell_type": "code",
   "execution_count": 105,
   "id": "d3d36b58",
   "metadata": {},
   "outputs": [],
   "source": [
    "y_pred_LR = Log_reg.predict(X_test)"
   ]
  },
  {
   "cell_type": "markdown",
   "id": "8d356fda",
   "metadata": {},
   "source": [
    "# Confusion Matrix "
   ]
  },
  {
   "cell_type": "code",
   "execution_count": 106,
   "id": "2b39c96a",
   "metadata": {
    "scrolled": true
   },
   "outputs": [
    {
     "data": {
      "text/plain": [
       "array([[283,  79],\n",
       "       [ 50, 157]])"
      ]
     },
     "execution_count": 106,
     "metadata": {},
     "output_type": "execute_result"
    }
   ],
   "source": [
    "confusion_matrix(y_test, y_pred_LR)"
   ]
  },
  {
   "cell_type": "code",
   "execution_count": 107,
   "id": "8d37dcfb",
   "metadata": {
    "scrolled": true
   },
   "outputs": [
    {
     "name": "stderr",
     "output_type": "stream",
     "text": [
      "/home/sahil/anaconda3/lib/python3.9/site-packages/sklearn/utils/deprecation.py:87: FutureWarning: Function plot_confusion_matrix is deprecated; Function `plot_confusion_matrix` is deprecated in 1.0 and will be removed in 1.2. Use one of the class methods: ConfusionMatrixDisplay.from_predictions or ConfusionMatrixDisplay.from_estimator.\n",
      "  warnings.warn(msg, category=FutureWarning)\n"
     ]
    },
    {
     "data": {
      "image/png": "[encoded data removed]",
      "text/plain": [
       "<Figure size 432x288 with 2 Axes>"
      ]
     },
     "metadata": {
      "needs_background": "light"
     },
     "output_type": "display_data"
    }
   ],
   "source": [
    "plot_confusion_matrix(Log_reg, X_test, y_test)\n",
    "plt.grid(False)"
   ]
  },
  {
   "cell_type": "markdown",
   "id": "3ad6c84a",
   "metadata": {},
   "source": [
    "# Accuracy"
   ]
  },
  {
   "cell_type": "code",
   "execution_count": 108,
   "id": "2c19385d",
   "metadata": {},
   "outputs": [
    {
     "name": "stdout",
     "output_type": "stream",
     "text": [
      "Accuracy of Logistic Regression =  0.773286467486819\n"
     ]
    }
   ],
   "source": [
    "accuracy_LR= accuracy_score(y_test, y_pred_LR)\n",
    "print(\"Accuracy of Logistic Regression = \", accuracy_LR)"
   ]
  },
  {
   "cell_type": "markdown",
   "id": "ef01b996",
   "metadata": {},
   "source": [
    "# Plotting Individual Model Accuracy "
   ]
  },
  {
   "cell_type": "code",
   "execution_count": 109,
   "id": "44c8dcd4",
   "metadata": {},
   "outputs": [
    {
     "data": {
      "image/png": "[encoded data removed]",
      "text/plain": [
       "<Figure size 1080x360 with 1 Axes>"
      ]
     },
     "metadata": {
      "needs_background": "light"
     },
     "output_type": "display_data"
    }
   ],
   "source": [
    "models = [\"KNN\",'Decision Tree' , \"Logistic Regression\"]\n",
    "accuracies = [accuracy_KNN, accuracy_DT, accuracy_LR]\n",
    "\n",
    "fig, ax = plt.subplots(figsize=(15,5))\n",
    "\n",
    "ax.bar(models, accuracies,\n",
    "       width=0.3,color='gray')\n",
    "plt.xticks(rotation=45)\n",
    "plt.title(\"Model Accuracies Comparison Chart\")\n",
    "plt.xlabel(\"Models\")\n",
    "plt.ylabel(\"Accuracies\")\n",
    "for i in range(len(models)):\n",
    "    ax.text(i, accuracies[i], [(accuracies[i]*100).round(2), \"%\"], ha=\"center\", va=\"bottom\")\n",
    "plt.rcParams.update({'font.size': 20})\n",
    "plt.show()"
   ]
  },
  {
   "cell_type": "code",
   "execution_count": null,
   "id": "bfd6c0ca",
   "metadata": {},
   "outputs": [],
   "source": []
  },
  {
   "cell_type": "code",
   "execution_count": null,
   "id": "dfe776b7",
   "metadata": {},
   "outputs": [],
   "source": []
  }
 ],
 "metadata": {
  "kernelspec": {
   "display_name": "Python 3 (ipykernel)",
   "language": "python",
   "name": "python3"
  },
  "language_info": {
   "codemirror_mode": {
    "name": "ipython",
    "version": 3
   },
   "file_extension": ".py",
   "mimetype": "text/x-python",
   "name": "python",
   "nbconvert_exporter": "python",
   "pygments_lexer": "ipython3",
   "version": "3.9.12"
  }
 },
 "nbformat": 4,
 "nbformat_minor": 5
}
